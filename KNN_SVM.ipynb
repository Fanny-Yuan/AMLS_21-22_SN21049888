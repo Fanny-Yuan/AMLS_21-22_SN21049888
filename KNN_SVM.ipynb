{
 "cells": [
  {
   "cell_type": "markdown",
   "metadata": {},
   "source": [
    "# Introduction\n",
    "This notebook is about brain tumor classification using two machine learning methods: KNN and SVM. Models are trained with multiclass labels, however, you can do both binary classification and multiclassification using this code.\n",
    "\n",
    "The code is structured as follows:\n",
    "1. Load packages\n",
    "2. Preprocess data\n",
    "3. Train and test KNN models\n",
    "4. Train and test SVM models\n",
    "\n",
    "You can run part 1 and part 2 first, then run either part 3 or part 4 to train and test your own model.\n",
    "\n",
    "ATTENTION: This code is based on Windows. If you want to run it on Google Colab or other linux based servers, please change all '\\\\'  to '/'."
   ]
  },
  {
   "cell_type": "markdown",
   "metadata": {},
   "source": [
    "## 1.Load packages"
   ]
  },
  {
   "cell_type": "code",
   "execution_count": 1,
   "metadata": {},
   "outputs": [],
   "source": [
    "import cv2\n",
    "import numpy as np\n",
    "import pandas as pd\n",
    "\n",
    "from sklearn.model_selection import train_test_split\n",
    "from sklearn.neighbors import KNeighborsClassifier\n",
    "from sklearn import metrics\n",
    "\n",
    "from sklearn.svm import SVC\n",
    "from sklearn.pipeline import make_pipeline\n",
    "from sklearn.preprocessing import StandardScaler"
   ]
  },
  {
   "cell_type": "markdown",
   "metadata": {},
   "source": [
    "## 2.Prepocess data\n",
    "This part includes:\n",
    "\n",
    "1. image preprocessing using openCV\n",
    "2. images and labels reading\n",
    "3. train set and test set preparation\n",
    "4. the function used to convert multiclass labels to binary labels"
   ]
  },
  {
   "cell_type": "code",
   "execution_count": 2,
   "metadata": {},
   "outputs": [],
   "source": [
    "#hog\n",
    "winSize = (28, 28)\n",
    "blockSize = (14, 14)\n",
    "blockStride = (7, 7)\n",
    "cellSize = (14, 14)\n",
    "nbins = 9\n",
    "derivAperture = 1\n",
    "winSigma = -1\n",
    "histogramNormType = 0\n",
    "L2HysThreshold = 0.2\n",
    "gammaCorrection = 1\n",
    "nlevels = 64\n",
    "signedGradients = True\n",
    "\n",
    "hog = cv2.HOGDescriptor(winSize, blockSize, blockStride,\n",
    "                        cellSize, nbins, derivAperture,\n",
    "                        winSigma, histogramNormType, L2HysThreshold,\n",
    "                        gammaCorrection, nlevels, signedGradients)"
   ]
  },
  {
   "cell_type": "code",
   "execution_count": 3,
   "metadata": {},
   "outputs": [],
   "source": [
    "#image processing\n",
    "data_path='.\\\\dataset\\\\'\n",
    "names=list(pd.read_csv(data_path+'label.csv')['file_name'])\n",
    "labels=list(pd.read_csv(data_path+'label.csv')['label'])\n",
    "imgs=[]\n",
    "for name in names:\n",
    "    img_path=data_path+'image\\\\'+name\n",
    "    img=cv2.imread(img_path)\n",
    "    img_hsv = hog.compute(img)\n",
    "    imgs.append(np.squeeze(img_hsv))"
   ]
  },
  {
   "cell_type": "code",
   "execution_count": 4,
   "metadata": {},
   "outputs": [],
   "source": [
    "#split trainset and testset\n",
    "train_data,test_data,train_label,test_label=train_test_split(imgs,labels,test_size=0.2,random_state=3)"
   ]
  },
  {
   "cell_type": "code",
   "execution_count": 5,
   "metadata": {},
   "outputs": [],
   "source": [
    "#multiclass to binary (run this if you want to do binary classification)\n",
    "def multi_to_binary(labels):\n",
    "    binary=[]\n",
    "    for label in labels:\n",
    "        binary.append(label) if label=='no_tumor' else binary.append('tumor')\n",
    "    return binary"
   ]
  },
  {
   "cell_type": "markdown",
   "metadata": {},
   "source": [
    "## 3. Train and test KNN models\n",
    "Through this part you can:\n",
    "\n",
    "1. train your KNN model with multiclass labels\n",
    "2. test your KNN model for multiclass task\n",
    "3. test your KNN model for binary task\n",
    "\n",
    "If you want to do multiclassification, just run 1 and 2, if you want to do binary task, run all parts."
   ]
  },
  {
   "cell_type": "code",
   "execution_count": 6,
   "metadata": {},
   "outputs": [],
   "source": [
    "#KNN training and prediction\n",
    "neigh=KNeighborsClassifier(n_neighbors=3)\n",
    "neigh.fit(train_data,train_label)\n",
    "predict_label=neigh.predict(test_data)"
   ]
  },
  {
   "cell_type": "code",
   "execution_count": 7,
   "metadata": {},
   "outputs": [
    {
     "data": {
      "text/plain": [
       "0.8216666666666667"
      ]
     },
     "execution_count": 7,
     "metadata": {},
     "output_type": "execute_result"
    }
   ],
   "source": [
    "#accuracy of multiclassification\n",
    "score=metrics.accuracy_score(test_label,predict_label)\n",
    "score"
   ]
  },
  {
   "cell_type": "code",
   "execution_count": 8,
   "metadata": {},
   "outputs": [
    {
     "data": {
      "text/plain": [
       "0.9383333333333334"
      ]
     },
     "execution_count": 8,
     "metadata": {},
     "output_type": "execute_result"
    }
   ],
   "source": [
    "#accuracy of binary classification\n",
    "predict_binary=multi_to_binary(predict_label)\n",
    "test_binary=multi_to_binary(test_label)\n",
    "score_binary=metrics.accuracy_score(test_binary,predict_binary)\n",
    "score_binary"
   ]
  },
  {
   "cell_type": "markdown",
   "metadata": {},
   "source": [
    "## 4. Train and test SVM models\n",
    "Through this part you can:\n",
    "\n",
    "1. train your SVM model with multiclass labels\n",
    "2. test your SVM model for multiclass task\n",
    "3. test your SVM model for binary task\n",
    "\n",
    "If you want to do multiclassification, just run 1 and 2, if you want to do binary task, run all parts."
   ]
  },
  {
   "cell_type": "code",
   "execution_count": 9,
   "metadata": {},
   "outputs": [],
   "source": [
    "#SVM training and prediction\n",
    "clf = make_pipeline(StandardScaler(), SVC(gamma='auto'))\n",
    "clf.fit(train_data, train_label)\n",
    "predict_label = clf.predict(test_data)"
   ]
  },
  {
   "cell_type": "code",
   "execution_count": 10,
   "metadata": {},
   "outputs": [
    {
     "data": {
      "text/plain": [
       "0.8783333333333333"
      ]
     },
     "execution_count": 10,
     "metadata": {},
     "output_type": "execute_result"
    }
   ],
   "source": [
    "#accuracy of multiclassification\n",
    "score=metrics.accuracy_score(test_label,predict_label)\n",
    "score"
   ]
  },
  {
   "cell_type": "code",
   "execution_count": 11,
   "metadata": {},
   "outputs": [
    {
     "data": {
      "text/plain": [
       "0.9616666666666667"
      ]
     },
     "execution_count": 11,
     "metadata": {},
     "output_type": "execute_result"
    }
   ],
   "source": [
    "#accuracy of binary classification\n",
    "predict_binary=multi_to_binary(predict_label)\n",
    "test_binary=multi_to_binary(test_label)\n",
    "score_binary=metrics.accuracy_score(test_binary,predict_binary)\n",
    "score_binary"
   ]
  },
  {
   "cell_type": "code",
   "execution_count": null,
   "metadata": {},
   "outputs": [],
   "source": []
  }
 ],
 "metadata": {
  "kernelspec": {
   "display_name": "Python 3",
   "language": "python",
   "name": "python3"
  },
  "language_info": {
   "codemirror_mode": {
    "name": "ipython",
    "version": 3
   },
   "file_extension": ".py",
   "mimetype": "text/x-python",
   "name": "python",
   "nbconvert_exporter": "python",
   "pygments_lexer": "ipython3",
   "version": "3.7.0"
  }
 },
 "nbformat": 4,
 "nbformat_minor": 4
}
